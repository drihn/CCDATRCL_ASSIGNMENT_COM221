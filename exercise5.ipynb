{
  "cells": [
    {
      "cell_type": "markdown",
      "metadata": {
        "id": "view-in-github",
        "colab_type": "text"
      },
      "source": [
        "<a href=\"https://colab.research.google.com/github/drihn/CCDATRCL_ASSIGNMENT_COM221/blob/main/exercise5.ipynb\" target=\"_parent\"><img src=\"https://colab.research.google.com/assets/colab-badge.svg\" alt=\"Open In Colab\"/></a>"
      ]
    },
    {
      "cell_type": "markdown",
      "metadata": {
        "id": "DN15rkKvhGBr"
      },
      "source": [
        "# Exercise 5"
      ]
    },
    {
      "cell_type": "markdown",
      "metadata": {
        "id": "oEys_5t7hGBt"
      },
      "source": [
        "#### 1. Create a dictionary of your 10 favorite songs."
      ]
    },
    {
      "cell_type": "markdown",
      "metadata": {
        "id": "T1iOtzXshGBu"
      },
      "source": [
        "Example:\n",
        "\n",
        "|KEY|VALUE|\n",
        "|---|---|\n",
        "|001|My Love|\n",
        "|002|Like a rose|"
      ]
    },
    {
      "cell_type": "code",
      "execution_count": 2,
      "metadata": {
        "id": "dprOhMRchGBu",
        "outputId": "603b059c-cc3b-4ef5-896b-b23b832e3d45",
        "colab": {
          "base_uri": "https://localhost:8080/"
        }
      },
      "outputs": [
        {
          "output_type": "stream",
          "name": "stdout",
          "text": [
            "{'001': 'Close', '002': 'Paris', '003': 'Stiches', '004': 'Treat You Better', '005': 'Let Me Love You', '006': 'Shape of You', '007': 'All Night', '008': 'Hurts So Good', '009': 'Habits', '010': 'Just The Way You Are'}\n"
          ]
        }
      ],
      "source": [
        "mydictionary = {\n",
        "  \"001\": \"Closer\",\n",
        "  \"002\": \"Paris\",\n",
        "  \"003\": \"Stiches\",\n",
        "  \"004\": \"Treat You Better\",\n",
        "  \"005\": \"Let Me Love You\",\n",
        "  \"006\": \"Shape of You\",\n",
        "  \"007\": \"All Night\",\n",
        "  \"008\": \"Hurts So Good\",\n",
        "  \"009\": \"Habits\",\n",
        "  \"010\": \"Just The Way You Are\",\n",
        "\n",
        "\n",
        "}\n",
        "print(mydictionary)"
      ]
    },
    {
      "cell_type": "markdown",
      "metadata": {
        "id": "g1FstA7XhGBv"
      },
      "source": [
        "#### 2. Loop through the dictionary by its **key** and **value**"
      ]
    },
    {
      "cell_type": "code",
      "execution_count": 3,
      "metadata": {
        "id": "QgyUTiuHhGBv",
        "outputId": "2ab97d4e-0732-4b39-d1a7-2c83ae3290a6",
        "colab": {
          "base_uri": "https://localhost:8080/"
        }
      },
      "outputs": [
        {
          "output_type": "stream",
          "name": "stdout",
          "text": [
            "001 Close\n",
            "002 Paris\n",
            "003 Stiches\n",
            "004 Treat You Better\n",
            "005 Let Me Love You\n",
            "006 Shape of You\n",
            "007 All Night\n",
            "008 Hurts So Good\n",
            "009 Habits\n",
            "010 Just The Way You Are\n"
          ]
        }
      ],
      "source": [
        "for x, y in mydictionary.items():\n",
        "  print(x, y)"
      ]
    },
    {
      "cell_type": "markdown",
      "metadata": {
        "id": "h5N_w8-yhGBw"
      },
      "source": [
        "#### 3. Add one additional song"
      ]
    },
    {
      "cell_type": "code",
      "execution_count": 4,
      "metadata": {
        "id": "oUXMAJWEhGBw",
        "outputId": "cb6b1772-0159-4900-c810-6d5b4235ba91",
        "colab": {
          "base_uri": "https://localhost:8080/"
        }
      },
      "outputs": [
        {
          "output_type": "execute_result",
          "data": {
            "text/plain": [
              "{'001': 'Close',\n",
              " '002': 'Paris',\n",
              " '003': 'Stiches',\n",
              " '004': 'Treat You Better',\n",
              " '005': 'Let Me Love You',\n",
              " '006': 'Shape of You',\n",
              " '007': 'All Night',\n",
              " '008': 'Hurts So Good',\n",
              " '009': 'Habits',\n",
              " '010': 'Just The Way You Are',\n",
              " '011': 'Jumpshot'}"
            ]
          },
          "metadata": {},
          "execution_count": 4
        }
      ],
      "source": [
        "mydictionary[\"011\"] = \"Jumpshot\"\n",
        "mydictionary"
      ]
    },
    {
      "cell_type": "markdown",
      "metadata": {
        "id": "7OlW5r9dhGBx"
      },
      "source": [
        "#### 4. Remove one song"
      ]
    },
    {
      "cell_type": "code",
      "execution_count": 5,
      "metadata": {
        "id": "g39mqwpDhGBx",
        "outputId": "feebb5db-ceb7-4270-b15f-3a009df9f8d1",
        "colab": {
          "base_uri": "https://localhost:8080/"
        }
      },
      "outputs": [
        {
          "output_type": "execute_result",
          "data": {
            "text/plain": [
              "{'002': 'Paris',\n",
              " '003': 'Stiches',\n",
              " '004': 'Treat You Better',\n",
              " '005': 'Let Me Love You',\n",
              " '006': 'Shape of You',\n",
              " '007': 'All Night',\n",
              " '008': 'Hurts So Good',\n",
              " '009': 'Habits',\n",
              " '010': 'Just The Way You Are',\n",
              " '011': 'Jumpshot'}"
            ]
          },
          "metadata": {},
          "execution_count": 5
        }
      ],
      "source": [
        "mydictionary.pop(\"001\")\n",
        "mydictionary"
      ]
    },
    {
      "cell_type": "markdown",
      "metadata": {
        "id": "gZ8Sr1bzhGBy"
      },
      "source": [
        "#### 5. Create a nested dictionary of your 10 favorite songs with 5 genres. Display all of the items of the nested dictionary\n",
        "\n",
        "- Each nested dictionary's key should be the genre of the song\n",
        "- Put each song in their respective genre"
      ]
    },
    {
      "cell_type": "markdown",
      "metadata": {
        "id": "US1ZaaSJhGBy"
      },
      "source": [
        "Example:\n",
        "\n",
        "\n",
        "|KEY|VALUE|\n",
        "|---|---|\n",
        "|Pop|{001, Baby}|\n",
        "|Rock|{001, Enter Sandman}|"
      ]
    },
    {
      "cell_type": "code",
      "execution_count": 6,
      "metadata": {
        "id": "z577KULkhGBz",
        "outputId": "f31c23c1-37ff-402b-bf26-b0317797d7ca",
        "colab": {
          "base_uri": "https://localhost:8080/"
        }
      },
      "outputs": [
        {
          "output_type": "execute_result",
          "data": {
            "text/plain": [
              "{'Pop': {'001': 'Closer',\n",
              "  '002': 'Paris',\n",
              "  '003': 'Stiches',\n",
              "  '004': 'Treat You Better',\n",
              "  '005': 'Let Me Love You'},\n",
              " 'RnB': {'006': 'Shape of You',\n",
              "  '007': 'All Night',\n",
              "  '008': 'Hurts So Good',\n",
              "  '009': 'Habits',\n",
              "  '010': 'Just the Way You Are'}}"
            ]
          },
          "metadata": {},
          "execution_count": 6
        }
      ],
      "source": [
        "mydictionary = {\n",
        "  \"Pop\" : {\n",
        "    \"001\" : \"Closer\",\n",
        "    \"002\" : \"Paris\",\n",
        "    \"003\" : \"Stiches\",\n",
        "    \"004\" : \"Treat You Better\",\n",
        "    \"005\" : \"Let Me Love You\",\n",
        "  },\n",
        "  \"RnB\" : {\n",
        "    \"006\" : \"Shape of You\",\n",
        "    \"007\" : \"All Night\",\n",
        "    \"008\" : \"Hurts So Good\",\n",
        "    \"009\" : \"Habits\",\n",
        "    \"010\" : \"Just the Way You Are\",\n",
        "\n",
        "  }\n",
        "}\n",
        "\n",
        "mydictionary"
      ]
    },
    {
      "cell_type": "markdown",
      "metadata": {
        "id": "ZMgltzOkhGBz"
      },
      "source": [
        "#### 6. Print the first song of the first genre"
      ]
    },
    {
      "cell_type": "code",
      "execution_count": 10,
      "metadata": {
        "id": "nmXUGoNWhGBz",
        "outputId": "3a8551fe-b38f-418f-bd6b-68961cce1512",
        "colab": {
          "base_uri": "https://localhost:8080/"
        }
      },
      "outputs": [
        {
          "output_type": "stream",
          "name": "stdout",
          "text": [
            "Closer\n"
          ]
        }
      ],
      "source": [
        "print(mydictionary[\"Pop\"][\"001\"])"
      ]
    },
    {
      "cell_type": "markdown",
      "metadata": {
        "id": "dEcgwp_ihGB0"
      },
      "source": [
        "#### 7. Print the first song of the last genre"
      ]
    },
    {
      "cell_type": "code",
      "execution_count": 11,
      "metadata": {
        "id": "ITbuWq2UhGB0",
        "outputId": "1d27d418-9858-4ac4-a21b-01a5139ac878",
        "colab": {
          "base_uri": "https://localhost:8080/"
        }
      },
      "outputs": [
        {
          "output_type": "stream",
          "name": "stdout",
          "text": [
            "Just the Way You Are\n"
          ]
        }
      ],
      "source": [
        "print(mydictionary[\"RnB\"][\"010\"])"
      ]
    }
  ],
  "metadata": {
    "kernelspec": {
      "display_name": "Python 3",
      "language": "python",
      "name": "python3"
    },
    "language_info": {
      "codemirror_mode": {
        "name": "ipython",
        "version": 3
      },
      "file_extension": ".py",
      "mimetype": "text/x-python",
      "name": "python",
      "nbconvert_exporter": "python",
      "pygments_lexer": "ipython3",
      "version": "3.11.4"
    },
    "orig_nbformat": 4,
    "colab": {
      "provenance": [],
      "include_colab_link": true
    }
  },
  "nbformat": 4,
  "nbformat_minor": 0
}