{
  "cells": [
    {
      "cell_type": "markdown",
      "metadata": {
        "colab_type": "text",
        "id": "view-in-github"
      },
      "source": [
        "<a href=\"https://colab.research.google.com/github/robitussin/CCDATRCL_EXERCISES/blob/main/exercise4.ipynb\" target=\"_parent\"><img src=\"https://colab.research.google.com/assets/colab-badge.svg\" alt=\"Open In Colab\"/></a>"
      ]
    },
    {
      "cell_type": "markdown",
      "metadata": {
        "id": "fCO3VeNzvGDc"
      },
      "source": [
        "# Exercise 4"
      ]
    },
    {
      "cell_type": "markdown",
      "metadata": {},
      "source": [
        "#### Pre-defined sorting algorithms"
      ]
    },
    {
      "cell_type": "code",
      "execution_count": 53,
      "metadata": {},
      "outputs": [],
      "source": [
        "def mergeSort(array):\n",
        "    global merge_sort_num_steps\n",
        "    if len(array) > 1:\n",
        "        #  r is the point where the array is divided into two subarrays\n",
        "        r = len(array) // 2\n",
        "        L = array[:r]\n",
        "        M = array[r:]\n",
        "\n",
        "        # Sort the two halves\n",
        "        mergeSort(L)\n",
        "        mergeSort(M)\n",
        "\n",
        "        i = j = k = 0\n",
        "\n",
        "        # Until we reach either end of either L or M, pick larger among\n",
        "        # elements L and M and place them in the correct position at A[p..r]\n",
        "        while i < len(L) and j < len(M):\n",
        "            merge_sort_num_steps += 1\n",
        "            if L[i] < M[j]:\n",
        "                array[k] = L[i]\n",
        "                i += 1\n",
        "            else:\n",
        "                array[k] = M[j]\n",
        "                j += 1\n",
        "            k += 1\n",
        "\n",
        "        # When we run out of elements in either L or M,\n",
        "        # pick up the remaining elements and put in A[p..r]\n",
        "        while i < len(L):\n",
        "            merge_sort_num_steps += 1\n",
        "            array[k] = L[i]\n",
        "            i += 1\n",
        "            k += 1\n",
        "\n",
        "        while j < len(M):\n",
        "            merge_sort_num_steps += 1\n",
        "            array[k] = M[j]\n",
        "            j += 1\n",
        "            k += 1\n",
        "            \n",
        "# Print the array\n",
        "def printList(array):\n",
        "    for i in range(len(array)):\n",
        "        print(array[i], end=\" \")\n",
        "    print()"
      ]
    },
    {
      "cell_type": "code",
      "execution_count": 54,
      "metadata": {},
      "outputs": [],
      "source": [
        "def countingSort(array):\n",
        "    global counting_sort_num_steps\n",
        "    size = len(array)\n",
        "    min_value = min(array)\n",
        "    max_value = max(array)\n",
        "    range_size = max_value - min_value + 1  # Calculate the range of values\n",
        "\n",
        "    output = [0] * size\n",
        "    count = [0] * range_size  # Initialize count array\n",
        "\n",
        "    # Store the count of each element in the count array\n",
        "    for i in range(0, size):\n",
        "        counting_sort_num_steps += 1\n",
        "        count[array[i] - min_value] += 1\n",
        "\n",
        "    # Store the cumulative count\n",
        "    for i in range(1, range_size):\n",
        "        count[i] += count[i - 1]\n",
        "\n",
        "    # Find the index of each element of the original array in count array\n",
        "    # place the elements in output array\n",
        "    i = size - 1\n",
        "    while i >= 0:\n",
        "        counting_sort_num_steps += 1\n",
        "        output[count[array[i] - min_value] - 1] = array[i]\n",
        "        count[array[i] - min_value] -= 1\n",
        "        i -= 1\n",
        "\n",
        "    for i in range(0, size):\n",
        "        array[i] = output[i]"
      ]
    },
    {
      "cell_type": "code",
      "execution_count": 55,
      "metadata": {},
      "outputs": [],
      "source": [
        "def insertionSort(array):\n",
        "    # Initialize a counter variable\n",
        "    steps = 0\n",
        "\n",
        "    for step in range(1, len(array)):\n",
        "        key = array[step]\n",
        "        j = step - 1\n",
        "        \n",
        "        # Compare key with each element on the left of it until an element smaller than it is found\n",
        "        # For descending order, change key < array[j] to key > array[j].\n",
        "        while j >= 0 and key < array[j]:\n",
        "            # Increment the step count for each comparison\n",
        "            steps += 1\n",
        "            array[j + 1] = array[j]\n",
        "            j = j - 1\n",
        "        # Place key at after the element just smaller than it.\n",
        "        array[j + 1] = key\n",
        "\n",
        "    return steps"
      ]
    },
    {
      "cell_type": "code",
      "execution_count": 56,
      "metadata": {},
      "outputs": [],
      "source": [
        "def bubbleSort(array):\n",
        "    # Initialize a variable to count the swaps\n",
        "    swap_count = 0\n",
        "\n",
        "    # loop to access each array element\n",
        "    for i in range(len(array)):\n",
        "        # loop to compare array elements\n",
        "        for j in range(0, len(array) - i - 1):\n",
        "            # compare two adjacent elements\n",
        "            # change > to < to sort in descending order\n",
        "            if array[j] > array[j + 1]:\n",
        "                # Swap elements if they are not in the intended order\n",
        "                temp = array[j]\n",
        "                array[j] = array[j+1]\n",
        "                array[j+1] = temp\n",
        "                # Increment the swap count\n",
        "                swap_count += 1\n",
        "\n",
        "    return swap_count"
      ]
    },
    {
      "cell_type": "markdown",
      "metadata": {
        "id": "6j9PZVsyvGDe"
      },
      "source": [
        "#### 1. Sort your **student number** in **ascending order**\n",
        "\n",
        "Example:\n",
        "\n",
        "**Input: 2022123456**\n",
        "\n",
        "**Output: 0122223456**"
      ]
    },
    {
      "cell_type": "code",
      "execution_count": 57,
      "metadata": {
        "id": "UuNMRCm3vGDe"
      },
      "outputs": [],
      "source": [
        "studNum = [2,0,2,2,1,0,4,0,1,9]"
      ]
    },
    {
      "cell_type": "code",
      "execution_count": 58,
      "metadata": {},
      "outputs": [
        {
          "name": "stdout",
          "output_type": "stream",
          "text": [
            "Sorted Student Number in Ascending Order\n",
            "[0, 0, 0, 1, 1, 2, 2, 2, 4, 9]\n"
          ]
        }
      ],
      "source": [
        "bubbleSort(studNum)\n",
        "\n",
        "print('Sorted Student Number in Ascending Order')\n",
        "print(studNum)"
      ]
    },
    {
      "cell_type": "markdown",
      "metadata": {
        "id": "felukBjnvGDf"
      },
      "source": [
        "#### 2. Sort the **dates** in **ascending order**.\n",
        "\n",
        "dates = [\"12-25-2023\", birthday, \"01-01-2023\"]\n",
        "\n",
        "Enter your birthday in the birthday variable."
      ]
    },
    {
      "cell_type": "code",
      "execution_count": 59,
      "metadata": {},
      "outputs": [],
      "source": [
        "from datetime import datetime"
      ]
    },
    {
      "cell_type": "code",
      "execution_count": 60,
      "metadata": {
        "id": "f8xQ3N0jvGDg"
      },
      "outputs": [],
      "source": [
        "# put your answer here\n",
        "\n",
        "# Your birthday s mm-dd-yyyyhould be in\n",
        "birthday = \"12-14-2003\"\n",
        "\n",
        "dates = [\"12-25-2023\", birthday, \"01-01-2023\"]"
      ]
    },
    {
      "cell_type": "code",
      "execution_count": 61,
      "metadata": {},
      "outputs": [],
      "source": [
        "date_objects = [datetime.strptime(date, \"%m-%d-%Y\") for date in dates]\n",
        "date_objects.sort()\n",
        "\n",
        "sorted_dates = [date.strftime(\"%m-%d-%Y\") for date in date_objects]"
      ]
    },
    {
      "cell_type": "code",
      "execution_count": 62,
      "metadata": {},
      "outputs": [
        {
          "name": "stdout",
          "output_type": "stream",
          "text": [
            "Sorted dates in Ascending order\n",
            "['12-14-2003', '01-01-2023', '12-25-2023']\n"
          ]
        }
      ],
      "source": [
        "print('Sorted dates in Ascending order')\n",
        "print(sorted_dates)"
      ]
    },
    {
      "cell_type": "markdown",
      "metadata": {
        "id": "IFDPeGZxvGDg"
      },
      "source": [
        "#### 3. Count the **total number of swaps** to sort the list below using **Bubble Sort**\n",
        "\n",
        "|3|2|5|1|4|\n",
        "|---|----|---|---|---|"
      ]
    },
    {
      "cell_type": "code",
      "execution_count": 63,
      "metadata": {
        "id": "b1ppwLcevGDg",
        "outputId": "b38a47a6-764e-48c4-9612-2278fb72422a"
      },
      "outputs": [
        {
          "name": "stdout",
          "output_type": "stream",
          "text": [
            "Sorted list: [1, 2, 3, 4, 5]\n",
            "Total number of swaps: 5\n"
          ]
        }
      ],
      "source": [
        "# put your answer here\n",
        "list = [3,2,5,1,4]\n",
        "totalswaps = bubbleSort(list)\n",
        "\n",
        "print(\"Sorted list:\", list)\n",
        "print(\"Total number of swaps:\", totalswaps)"
      ]
    },
    {
      "cell_type": "markdown",
      "metadata": {
        "id": "iO2UusQWvGDi"
      },
      "source": [
        "#### 4. Count the **total number of steps** to sort the list below using **Insertion Sort**\n",
        "\n",
        "\n",
        "|6|2|5|7|4|1|8|9|3|\n",
        "|---|---|---|---|---|---|---|---|---|"
      ]
    },
    {
      "cell_type": "code",
      "execution_count": 64,
      "metadata": {
        "id": "vq1PYEjmvGDi",
        "outputId": "144516ac-ce19-470c-a41e-bd1b04da5dbe"
      },
      "outputs": [
        {
          "name": "stdout",
          "output_type": "stream",
          "text": [
            "Sorted list: [1, 2, 3, 4, 5, 6, 7, 8, 9]\n",
            "Total number of steps: 16\n"
          ]
        }
      ],
      "source": [
        "# put your answer here\n",
        "mylist = [6,2,5,7,4,1,8,9,3]\n",
        "numberofsteps = insertionSort(mylist)\n",
        "\n",
        "print(\"Sorted list:\", mylist)\n",
        "print(\"Total number of steps:\", numberofsteps)"
      ]
    },
    {
      "cell_type": "markdown",
      "metadata": {
        "id": "jpfNCCdbvGDj"
      },
      "source": [
        "#### 5. Given the list below:\n",
        "\n",
        "\n",
        "|77|55|24|63|22|5|47|18|\n",
        "|---|---|---|---|---|---|---|---|\n",
        "\n",
        "Using **merge sort** and **counting sort**\n",
        "\n",
        "Determine which sorting algorithm is faster by counting the total number of steps for each algorithm\n"
      ]
    },
    {
      "cell_type": "code",
      "execution_count": 65,
      "metadata": {
        "id": "2YVK17cSvGDj",
        "outputId": "31998f12-1678-4815-e6fe-d37781b0f0cc"
      },
      "outputs": [
        {
          "name": "stdout",
          "output_type": "stream",
          "text": [
            "Merge Sort Sorted List: [77, 55, 24, 63, 22, 5, 47, 18]\n",
            "Counting Sort Sorted List: [5, 18, 22, 24, 47, 55, 63, 77]\n",
            "Counting sort is faster\n",
            "Merge Sort Total Steps: 24\n",
            "Counting Sort Total Steps: 16\n"
          ]
        }
      ],
      "source": [
        "# put your answer here\n",
        "my_list = [77, 55, 24, 63, 22, 5, 47, 18]\n",
        "\n",
        "merge_sort_num_steps = 0\n",
        "counting_sort_num_steps = 0\n",
        "\n",
        "mergeSort(my_list.copy())\n",
        "print(\"Merge Sort Sorted List:\", my_list)\n",
        "\n",
        "counting_sort_list = my_list.copy()\n",
        "\n",
        "countingSort(counting_sort_list)\n",
        "print(\"Counting Sort Sorted List:\", counting_sort_list)\n",
        "\n",
        "if merge_sort_num_steps < counting_sort_num_steps:\n",
        "    print(\"Merge sort is faster\")\n",
        "else:\n",
        "    print(\"Counting sort is faster\")\n",
        "\n",
        "print(\"Merge Sort Total Steps:\", merge_sort_num_steps)\n",
        "print(\"Counting Sort Total Steps:\", counting_sort_num_steps)"
      ]
    }
  ],
  "metadata": {
    "colab": {
      "include_colab_link": true,
      "provenance": []
    },
    "kernelspec": {
      "display_name": "Python 3",
      "language": "python",
      "name": "python3"
    },
    "language_info": {
      "codemirror_mode": {
        "name": "ipython",
        "version": 3
      },
      "file_extension": ".py",
      "mimetype": "text/x-python",
      "name": "python",
      "nbconvert_exporter": "python",
      "pygments_lexer": "ipython3",
      "version": "3.10.12"
    },
    "orig_nbformat": 4
  },
  "nbformat": 4,
  "nbformat_minor": 0
}
