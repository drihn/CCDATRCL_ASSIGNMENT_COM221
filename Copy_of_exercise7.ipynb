{
  "cells": [
    {
      "cell_type": "markdown",
      "metadata": {
        "id": "view-in-github",
        "colab_type": "text"
      },
      "source": [
        "<a href=\"https://colab.research.google.com/github/drihn/CCDATRCL_ASSIGNMENT_COM221/blob/main/Copy_of_exercise7.ipynb\" target=\"_parent\"><img src=\"https://colab.research.google.com/assets/colab-badge.svg\" alt=\"Open In Colab\"/></a>"
      ]
    },
    {
      "cell_type": "markdown",
      "metadata": {
        "id": "e3Ja3uozAJlw"
      },
      "source": [
        "# Exercise 7"
      ]
    },
    {
      "cell_type": "code",
      "execution_count": 2,
      "metadata": {
        "id": "IW6uTwU8AJly"
      },
      "outputs": [],
      "source": [
        "class Node:\n",
        "    def __init__(self, item):\n",
        "        self.left = None\n",
        "        self.right = None\n",
        "        self.val = item"
      ]
    },
    {
      "cell_type": "code",
      "execution_count": 8,
      "metadata": {
        "id": "uxVFuimIAJlz"
      },
      "outputs": [],
      "source": [
        "def evaluateExpressionTree(root):\n",
        "\n",
        "    # empty tree\n",
        "    if root is None:\n",
        "        return 0\n",
        "\n",
        "    # leaf node\n",
        "    if root.left is None and root.right is None:\n",
        "        return int(root.val)\n",
        "\n",
        "    # evaluate left tree\n",
        "    left_sum = evaluateExpressionTree(root.left)\n",
        "\n",
        "    # evaluate right tree\n",
        "    right_sum = evaluateExpressionTree(root.right)\n",
        "\n",
        "    # check which operation to apply\n",
        "    if root.val == '+':\n",
        "        return left_sum + right_sum\n",
        "\n",
        "    elif root.val == '-':\n",
        "        return left_sum - right_sum\n",
        "\n",
        "    elif root.val == '*':\n",
        "        return left_sum * right_sum\n",
        "\n",
        "    else:\n",
        "        return left_sum / right_sum"
      ]
    },
    {
      "cell_type": "code",
      "execution_count": 6,
      "metadata": {
        "id": "-xWZXA-mAJl0"
      },
      "outputs": [],
      "source": [
        "def inorder(root):\n",
        "\n",
        "    if root:\n",
        "        # Traverse left\n",
        "        inorder(root.left)\n",
        "        # Traverse root\n",
        "        print(str(root.val) + \"->\", end='')\n",
        "        # Traverse right\n",
        "        inorder(root.right)"
      ]
    },
    {
      "cell_type": "markdown",
      "metadata": {
        "id": "CVtqxh5DAJl1"
      },
      "source": [
        "#### 1. Construct a binary expression tree\n",
        "\n",
        "\n",
        "- Use the evaluateExpressionTree method to get the result of the expression\n",
        "- Use the inorder method to traverse the tree  \n",
        "\n",
        "$$ (8 + 4) * (7 - 9) $$"
      ]
    },
    {
      "cell_type": "code",
      "execution_count": 11,
      "metadata": {
        "id": "CxpP0zcVAJl1",
        "outputId": "47347723-87fb-4dbf-844a-45098395c3f1",
        "colab": {
          "base_uri": "https://localhost:8080/"
        }
      },
      "outputs": [
        {
          "output_type": "execute_result",
          "data": {
            "text/plain": [
              "-24"
            ]
          },
          "metadata": {},
          "execution_count": 11
        }
      ],
      "source": [
        "root1 = Node(\"+\")\n",
        "node1 = Node(\"8\")\n",
        "node2 = Node(\"4\")\n",
        "\n",
        "root1.left = node1\n",
        "root1.right = node2\n",
        "\n",
        "\n",
        "root2 = Node(\"-\")\n",
        "node3 = Node(\"7\")\n",
        "node4 = Node(\"9\")\n",
        "\n",
        "root2.left = node3\n",
        "root2.right = node4\n",
        "\n",
        "root3 = Node(\"*\")\n",
        "root3.left = root1\n",
        "root3.right = root2\n",
        "\n",
        "evaluateExpressionTree(root3)\n",
        "inorder(root3)"
      ]
    },
    {
      "cell_type": "markdown",
      "metadata": {
        "id": "jc5KHLk6AJl2"
      },
      "source": [
        "#### 2. Construct a binary expression tree\n",
        "\n",
        "- Use the evaluateExpressionTree method to get the result of the expression\n",
        "- Use the inorder method to traverse the tree  \n",
        "\n",
        "$$ 5 / 8 + 3 - 6 * 1 $$"
      ]
    },
    {
      "cell_type": "code",
      "execution_count": 22,
      "metadata": {
        "id": "XORzqkC3AJl2",
        "outputId": "876c8d93-69a2-4a58-c5cf-a50e1090c86b",
        "colab": {
          "base_uri": "https://localhost:8080/"
        }
      },
      "outputs": [
        {
          "output_type": "stream",
          "name": "stdout",
          "text": [
            "5->/->8->+->3->-->*->6->1->"
          ]
        }
      ],
      "source": [
        "root = Node(\"-\")\n",
        "node1 = Node(\"*\")\n",
        "node2 = Node(\"+\")\n",
        "node3 = Node(\"/\")\n",
        "node4 = Node(\"3\")\n",
        "node5 = Node(\"5\")\n",
        "node6 = Node(\"8\")\n",
        "node7 = Node(\"6\")\n",
        "node8 = Node(\"1\")\n",
        "\n",
        "root.left = node2\n",
        "root.left.left = node3\n",
        "root.left.right = node4\n",
        "root.left.left.left = node5\n",
        "root.left.left.right = node6\n",
        "root.right = node1\n",
        "root.right.right = node7\n",
        "root.right.right.right = node8\n",
        "\n",
        "evaluateExpressionTree(root)\n",
        "inorder(root)"
      ]
    },
    {
      "cell_type": "markdown",
      "metadata": {
        "id": "tu3n5ZdWAJl2"
      },
      "source": [
        "#### 3. Construct a binary expression tree\n",
        "\n",
        "- Use the evaluateExpressionTree method to get the result of the expression\n",
        "- Use the inorder method to traverse the tree  \n",
        "\n",
        "$$ ((2 + 5) / 3)- (3 + 8) $$"
      ]
    },
    {
      "cell_type": "code",
      "execution_count": 23,
      "metadata": {
        "id": "5GvZBxgtAJl3",
        "colab": {
          "base_uri": "https://localhost:8080/"
        },
        "outputId": "77c6a112-659c-4430-f0e1-970e8d31b39b"
      },
      "outputs": [
        {
          "output_type": "stream",
          "name": "stdout",
          "text": [
            "2->+->5->/->3->-->+->3->8->"
          ]
        }
      ],
      "source": [
        "root = Node(\"-\")\n",
        "node2 = Node(\"+\")\n",
        "node3 = Node(\"2\")\n",
        "node4 = Node(\"5\")\n",
        "node5 = Node(\"/\")\n",
        "node6 = Node(\"3\")\n",
        "node7 = Node(\"3\")\n",
        "node8 = Node(\"+\")\n",
        "node9 = Node(\"8\")\n",
        "\n",
        "root.left = node5\n",
        "root.left.left = node2\n",
        "root.left.right = node6\n",
        "root.left.left.left = node3\n",
        "root.left.left.right = node4\n",
        "root.right = node8\n",
        "root.right.right = node7\n",
        "root.right.right.right = node9\n",
        "\n",
        "evaluateExpressionTree(root)\n",
        "inorder(root)"
      ]
    }
  ],
  "metadata": {
    "kernelspec": {
      "display_name": "Python 3",
      "language": "python",
      "name": "python3"
    },
    "language_info": {
      "codemirror_mode": {
        "name": "ipython",
        "version": 3
      },
      "file_extension": ".py",
      "mimetype": "text/x-python",
      "name": "python",
      "nbconvert_exporter": "python",
      "pygments_lexer": "ipython3",
      "version": "3.11.4"
    },
    "orig_nbformat": 4,
    "colab": {
      "provenance": [],
      "include_colab_link": true
    }
  },
  "nbformat": 4,
  "nbformat_minor": 0
}